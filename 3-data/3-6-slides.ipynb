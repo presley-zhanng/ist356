{
 "cells": [
  {
   "cell_type": "markdown",
   "metadata": {},
   "source": [
    "# Data 3-6  String and Date Formatting\n",
    "\n",
    "Pandas: Parsing Dates and formatting strings"
   ]
  },
  {
   "cell_type": "markdown",
   "metadata": {},
   "source": [
    "## Challenge 3-6-1.py\n",
    "\n",
    "## Let's Build your first Data Pipeline\n",
    "\n",
    "This data pipeline is similar to one I built to process poll responses in IST256. This one here is a little simpler with some extra rules so we can practice tying together what we learned in the unit.\n",
    "\n",
    "Professor Xavier uses a polling app in class to track participation and attendance.\n",
    "\n",
    "The Polling Application.\n",
    "\n",
    "- When the professor posts a poll, students respond with letters A,B,C or D.\n",
    "- The are several polls during his Wednesday class.\n",
    "- When class is over a file is generated `poll-responses-YYYY-mm-dd.csv` it contains every poll response during that class session.\n",
    "- There is a file `roster.csv` which contains the list of students in the class.\n",
    "- There are 4 weeks of polling records.\n",
    "\n",
    "Grading:\n",
    "\n",
    "- If the student records no poll responses for the session, the student in **absent** `AB`\n",
    "- If the student records less than 50% poll responses, the student is a **non-participant** `np`\n",
    "- otherwise `+`\n",
    "\n",
    "Your Task:\n",
    "\n",
    "- Build a data pipeline to read in the roster and poll responses then create this dataset:\n",
    "    - student information\n",
    "    - date of polling session\n",
    "    - number of polls during session\n",
    "    - number of polls student answered during session\n",
    "    - label indicating if the student was absent or non participant\n",
    "\n",
    "- streamlit UI where you can select a student and see their polling data and grade\n",
    "\n",
    "- from the dataset, generate a CSV file for upload into for X-Menboard LMS:\n",
    "    - one row per student\n",
    "    - total class sessions\n",
    "    - total absences AB\n",
    "    - total non-participant np\n",
    "    - pct of sessions AB or np\n",
    "\n",
    "    "
   ]
  },
  {
   "cell_type": "markdown",
   "metadata": {},
   "source": []
  }
 ],
 "metadata": {
  "language_info": {
   "name": "python"
  }
 },
 "nbformat": 4,
 "nbformat_minor": 2
}
