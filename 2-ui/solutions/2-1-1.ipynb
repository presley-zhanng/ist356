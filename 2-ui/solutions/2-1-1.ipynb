{
 "cells": [
  {
   "cell_type": "markdown",
   "metadata": {},
   "source": [
    "## Challenge 2-2-1\n",
    "\n",
    "Let's create a simple widget interaction for display student status for their GPA:\n",
    "\n",
    "inputs:\n",
    "\n",
    "- student name\n",
    "- major: one of \"IMT\", \"IST\", or \"ADA\"\n",
    "- gpa between 0.0 and 4.0\n",
    "\n",
    "process:\n",
    "\n",
    "- when gpa < 1.8 then status is \"probation\"\n",
    "- when gpa > 3.4 then status is \"deans list\"\n",
    "- else status is \"no list\"\n",
    "\n",
    "output:\n",
    "\n",
    "- display the following statement:\n",
    "    \"NAME in MAJOR with GPA is on STATUS\""
   ]
  },
  {
   "cell_type": "markdown",
   "metadata": {},
   "source": []
  },
  {
   "cell_type": "code",
   "execution_count": 1,
   "metadata": {},
   "outputs": [
    {
     "data": {
      "application/vnd.jupyter.widget-view+json": {
       "model_id": "8edc07371d4a4f658407483d44393f64",
       "version_major": 2,
       "version_minor": 0
      },
      "text/plain": [
       "interactive(children=(Text(value='', continuous_update=False, description='name'), Dropdown(description='major…"
      ]
     },
     "metadata": {},
     "output_type": "display_data"
    }
   ],
   "source": [
    "from IPython.display import display\n",
    "from ipywidgets import interact_manual\n",
    "\n",
    "\n",
    "@interact_manual(name=\"\", major=[\"IMT\", \"IST\", \"ADA\"], gpa=(0.0,4.0,0.05))\n",
    "def onclick(name,major,gpa):\n",
    "    if gpa < 1.8:\n",
    "        status = \"probation\"\n",
    "    elif gpa > 3.4:\n",
    "        status = \"deans list\"\n",
    "    else:\n",
    "        status = \"no list\"\n",
    "    display(f\"{name} in {major} with gpa of {gpa} is on {status}\")\n"
   ]
  },
  {
   "cell_type": "code",
   "execution_count": null,
   "metadata": {},
   "outputs": [],
   "source": []
  }
 ],
 "metadata": {
  "kernelspec": {
   "display_name": "Python 3",
   "language": "python",
   "name": "python3"
  },
  "language_info": {
   "codemirror_mode": {
    "name": "ipython",
    "version": 3
   },
   "file_extension": ".py",
   "mimetype": "text/x-python",
   "name": "python",
   "nbconvert_exporter": "python",
   "pygments_lexer": "ipython3",
   "version": "3.12.5"
  }
 },
 "nbformat": 4,
 "nbformat_minor": 2
}
